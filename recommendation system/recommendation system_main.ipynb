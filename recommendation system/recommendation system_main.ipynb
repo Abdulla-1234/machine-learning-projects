{
  "nbformat": 4,
  "nbformat_minor": 0,
  "metadata": {
    "colab": {
      "provenance": []
    },
    "kernelspec": {
      "name": "python3",
      "display_name": "Python 3"
    },
    "language_info": {
      "name": "python"
    },
    "widgets": {
      "application/vnd.jupyter.widget-state+json": {
        "265cdc787d0d458bbb133fe750d170a9": {
          "model_module": "@jupyter-widgets/controls",
          "model_name": "HBoxModel",
          "model_module_version": "1.5.0",
          "state": {
            "_dom_classes": [],
            "_model_module": "@jupyter-widgets/controls",
            "_model_module_version": "1.5.0",
            "_model_name": "HBoxModel",
            "_view_count": null,
            "_view_module": "@jupyter-widgets/controls",
            "_view_module_version": "1.5.0",
            "_view_name": "HBoxView",
            "box_style": "",
            "children": [
              "IPY_MODEL_e77b7006304647dd98dd5f88a6bec14f",
              "IPY_MODEL_7c424c2de9984bc4a904d2391517400b",
              "IPY_MODEL_e93378e842174c4a88466a7962d49b6b"
            ],
            "layout": "IPY_MODEL_d5622978ab3b4b3fad772c290757081b"
          }
        },
        "e77b7006304647dd98dd5f88a6bec14f": {
          "model_module": "@jupyter-widgets/controls",
          "model_name": "HTMLModel",
          "model_module_version": "1.5.0",
          "state": {
            "_dom_classes": [],
            "_model_module": "@jupyter-widgets/controls",
            "_model_module_version": "1.5.0",
            "_model_name": "HTMLModel",
            "_view_count": null,
            "_view_module": "@jupyter-widgets/controls",
            "_view_module_version": "1.5.0",
            "_view_name": "HTMLView",
            "description": "",
            "description_tooltip": null,
            "layout": "IPY_MODEL_43e47ce1a58741dd8c8cc264862bf222",
            "placeholder": "​",
            "style": "IPY_MODEL_e29101c752ca4e3092382bb46f1fb0cb",
            "value": " 19%"
          }
        },
        "7c424c2de9984bc4a904d2391517400b": {
          "model_module": "@jupyter-widgets/controls",
          "model_name": "FloatProgressModel",
          "model_module_version": "1.5.0",
          "state": {
            "_dom_classes": [],
            "_model_module": "@jupyter-widgets/controls",
            "_model_module_version": "1.5.0",
            "_model_name": "FloatProgressModel",
            "_view_count": null,
            "_view_module": "@jupyter-widgets/controls",
            "_view_module_version": "1.5.0",
            "_view_name": "ProgressView",
            "bar_style": "danger",
            "description": "",
            "description_tooltip": null,
            "layout": "IPY_MODEL_5cb45d581b184c6b902376ac37824005",
            "max": 100,
            "min": 0,
            "orientation": "horizontal",
            "style": "IPY_MODEL_de5829af3dd14b58a29a01d17328d965",
            "value": 19
          }
        },
        "e93378e842174c4a88466a7962d49b6b": {
          "model_module": "@jupyter-widgets/controls",
          "model_name": "HTMLModel",
          "model_module_version": "1.5.0",
          "state": {
            "_dom_classes": [],
            "_model_module": "@jupyter-widgets/controls",
            "_model_module_version": "1.5.0",
            "_model_name": "HTMLModel",
            "_view_count": null,
            "_view_module": "@jupyter-widgets/controls",
            "_view_module_version": "1.5.0",
            "_view_name": "HTMLView",
            "description": "",
            "description_tooltip": null,
            "layout": "IPY_MODEL_ece4d780540f4dd0b18dc94afc5117f6",
            "placeholder": "​",
            "style": "IPY_MODEL_6efc3fb18e6045659b68dcc9e47b241c",
            "value": " 19/100 [01:58&lt;07:35,  5.63s/it]"
          }
        },
        "d5622978ab3b4b3fad772c290757081b": {
          "model_module": "@jupyter-widgets/base",
          "model_name": "LayoutModel",
          "model_module_version": "1.2.0",
          "state": {
            "_model_module": "@jupyter-widgets/base",
            "_model_module_version": "1.2.0",
            "_model_name": "LayoutModel",
            "_view_count": null,
            "_view_module": "@jupyter-widgets/base",
            "_view_module_version": "1.2.0",
            "_view_name": "LayoutView",
            "align_content": null,
            "align_items": null,
            "align_self": null,
            "border": null,
            "bottom": null,
            "display": null,
            "flex": null,
            "flex_flow": null,
            "grid_area": null,
            "grid_auto_columns": null,
            "grid_auto_flow": null,
            "grid_auto_rows": null,
            "grid_column": null,
            "grid_gap": null,
            "grid_row": null,
            "grid_template_areas": null,
            "grid_template_columns": null,
            "grid_template_rows": null,
            "height": null,
            "justify_content": null,
            "justify_items": null,
            "left": null,
            "margin": null,
            "max_height": null,
            "max_width": null,
            "min_height": null,
            "min_width": null,
            "object_fit": null,
            "object_position": null,
            "order": null,
            "overflow": null,
            "overflow_x": null,
            "overflow_y": null,
            "padding": null,
            "right": null,
            "top": null,
            "visibility": null,
            "width": null
          }
        },
        "43e47ce1a58741dd8c8cc264862bf222": {
          "model_module": "@jupyter-widgets/base",
          "model_name": "LayoutModel",
          "model_module_version": "1.2.0",
          "state": {
            "_model_module": "@jupyter-widgets/base",
            "_model_module_version": "1.2.0",
            "_model_name": "LayoutModel",
            "_view_count": null,
            "_view_module": "@jupyter-widgets/base",
            "_view_module_version": "1.2.0",
            "_view_name": "LayoutView",
            "align_content": null,
            "align_items": null,
            "align_self": null,
            "border": null,
            "bottom": null,
            "display": null,
            "flex": null,
            "flex_flow": null,
            "grid_area": null,
            "grid_auto_columns": null,
            "grid_auto_flow": null,
            "grid_auto_rows": null,
            "grid_column": null,
            "grid_gap": null,
            "grid_row": null,
            "grid_template_areas": null,
            "grid_template_columns": null,
            "grid_template_rows": null,
            "height": null,
            "justify_content": null,
            "justify_items": null,
            "left": null,
            "margin": null,
            "max_height": null,
            "max_width": null,
            "min_height": null,
            "min_width": null,
            "object_fit": null,
            "object_position": null,
            "order": null,
            "overflow": null,
            "overflow_x": null,
            "overflow_y": null,
            "padding": null,
            "right": null,
            "top": null,
            "visibility": null,
            "width": null
          }
        },
        "e29101c752ca4e3092382bb46f1fb0cb": {
          "model_module": "@jupyter-widgets/controls",
          "model_name": "DescriptionStyleModel",
          "model_module_version": "1.5.0",
          "state": {
            "_model_module": "@jupyter-widgets/controls",
            "_model_module_version": "1.5.0",
            "_model_name": "DescriptionStyleModel",
            "_view_count": null,
            "_view_module": "@jupyter-widgets/base",
            "_view_module_version": "1.2.0",
            "_view_name": "StyleView",
            "description_width": ""
          }
        },
        "5cb45d581b184c6b902376ac37824005": {
          "model_module": "@jupyter-widgets/base",
          "model_name": "LayoutModel",
          "model_module_version": "1.2.0",
          "state": {
            "_model_module": "@jupyter-widgets/base",
            "_model_module_version": "1.2.0",
            "_model_name": "LayoutModel",
            "_view_count": null,
            "_view_module": "@jupyter-widgets/base",
            "_view_module_version": "1.2.0",
            "_view_name": "LayoutView",
            "align_content": null,
            "align_items": null,
            "align_self": null,
            "border": null,
            "bottom": null,
            "display": null,
            "flex": null,
            "flex_flow": null,
            "grid_area": null,
            "grid_auto_columns": null,
            "grid_auto_flow": null,
            "grid_auto_rows": null,
            "grid_column": null,
            "grid_gap": null,
            "grid_row": null,
            "grid_template_areas": null,
            "grid_template_columns": null,
            "grid_template_rows": null,
            "height": null,
            "justify_content": null,
            "justify_items": null,
            "left": null,
            "margin": null,
            "max_height": null,
            "max_width": null,
            "min_height": null,
            "min_width": null,
            "object_fit": null,
            "object_position": null,
            "order": null,
            "overflow": null,
            "overflow_x": null,
            "overflow_y": null,
            "padding": null,
            "right": null,
            "top": null,
            "visibility": null,
            "width": null
          }
        },
        "de5829af3dd14b58a29a01d17328d965": {
          "model_module": "@jupyter-widgets/controls",
          "model_name": "ProgressStyleModel",
          "model_module_version": "1.5.0",
          "state": {
            "_model_module": "@jupyter-widgets/controls",
            "_model_module_version": "1.5.0",
            "_model_name": "ProgressStyleModel",
            "_view_count": null,
            "_view_module": "@jupyter-widgets/base",
            "_view_module_version": "1.2.0",
            "_view_name": "StyleView",
            "bar_color": null,
            "description_width": ""
          }
        },
        "ece4d780540f4dd0b18dc94afc5117f6": {
          "model_module": "@jupyter-widgets/base",
          "model_name": "LayoutModel",
          "model_module_version": "1.2.0",
          "state": {
            "_model_module": "@jupyter-widgets/base",
            "_model_module_version": "1.2.0",
            "_model_name": "LayoutModel",
            "_view_count": null,
            "_view_module": "@jupyter-widgets/base",
            "_view_module_version": "1.2.0",
            "_view_name": "LayoutView",
            "align_content": null,
            "align_items": null,
            "align_self": null,
            "border": null,
            "bottom": null,
            "display": null,
            "flex": null,
            "flex_flow": null,
            "grid_area": null,
            "grid_auto_columns": null,
            "grid_auto_flow": null,
            "grid_auto_rows": null,
            "grid_column": null,
            "grid_gap": null,
            "grid_row": null,
            "grid_template_areas": null,
            "grid_template_columns": null,
            "grid_template_rows": null,
            "height": null,
            "justify_content": null,
            "justify_items": null,
            "left": null,
            "margin": null,
            "max_height": null,
            "max_width": null,
            "min_height": null,
            "min_width": null,
            "object_fit": null,
            "object_position": null,
            "order": null,
            "overflow": null,
            "overflow_x": null,
            "overflow_y": null,
            "padding": null,
            "right": null,
            "top": null,
            "visibility": null,
            "width": null
          }
        },
        "6efc3fb18e6045659b68dcc9e47b241c": {
          "model_module": "@jupyter-widgets/controls",
          "model_name": "DescriptionStyleModel",
          "model_module_version": "1.5.0",
          "state": {
            "_model_module": "@jupyter-widgets/controls",
            "_model_module_version": "1.5.0",
            "_model_name": "DescriptionStyleModel",
            "_view_count": null,
            "_view_module": "@jupyter-widgets/base",
            "_view_module_version": "1.2.0",
            "_view_name": "StyleView",
            "description_width": ""
          }
        }
      }
    }
  },
  "cells": [
    {
      "cell_type": "code",
      "execution_count": 17,
      "metadata": {
        "colab": {
          "base_uri": "https://localhost:8080/"
        },
        "id": "97MHgER2cgUG",
        "outputId": "f41bb112-26e1-4d06-ec61-899c68cabdc7"
      },
      "outputs": [
        {
          "output_type": "stream",
          "name": "stdout",
          "text": [
            "Drive already mounted at /content/drive; to attempt to forcibly remount, call drive.mount(\"/content/drive\", force_remount=True).\n"
          ]
        }
      ],
      "source": [
        "import os\n",
        "from google.colab import drive\n",
        "drive.mount('/content/drive')"
      ]
    },
    {
      "cell_type": "code",
      "source": [
        "os.chdir('/content/drive/My Drive/recommendation system')"
      ],
      "metadata": {
        "id": "ZT4l94JYc8PW"
      },
      "execution_count": 18,
      "outputs": []
    },
    {
      "cell_type": "code",
      "source": [
        "%matplotlib inline\n",
        "\n",
        "import pandas as pd\n",
        "import numpy as np\n",
        "import matplotlib.pyplot as plt\n",
        "import random\n",
        "from tqdm import tqdm_notebook\n",
        "from copy import deepcopy\n",
        "\n",
        "import torch\n",
        "import torch.nn as nn\n",
        "import torch.nn.functional as F\n",
        "from torch.utils.data import DataLoader, Dataset\n",
        "device = torch.device(\"cuda:0\" if torch.cuda.is_available() else \"cpu\")\n",
        "\n",
        "data_path = 'ml-100k/'"
      ],
      "metadata": {
        "id": "qtbbMeInflFo"
      },
      "execution_count": 19,
      "outputs": []
    },
    {
      "cell_type": "code",
      "source": [
        "id_val = 1\n",
        "num_users = 943\n",
        "num_items = 1682\n",
        "\n",
        "train_dataframe = pd.read_csv(f'{data_path}u{id_val}.base', sep='\\t', header=None)\n",
        "train_dataframe.columns = ['user_id', 'item_id', 'rating', 'ts']\n",
        "train_dataframe['user_id'] = train_dataframe['user_id'] - 1\n",
        "train_dataframe['item_id'] = train_dataframe['item_id'] - 1\n",
        "\n",
        "valid_df = pd.read_csv(f'{data_path}u{id_val}.test', sep='\\t', header=None)\n",
        "valid_df.columns = ['user_id', 'item_id', 'rating', 'ts']\n",
        "valid_df['user_id'] = valid_df['user_id'] - 1\n",
        "valid_df['item_id'] = valid_df['item_id'] - 1\n",
        "\n",
        "train_dataframe.shape, valid_df.shape\n"
      ],
      "metadata": {
        "colab": {
          "base_uri": "https://localhost:8080/"
        },
        "id": "KrtXBbQud9kj",
        "outputId": "4cf91710-8b26-45b6-8240-4939883b6d20"
      },
      "execution_count": 21,
      "outputs": [
        {
          "output_type": "execute_result",
          "data": {
            "text/plain": [
              "((80000, 4), (20000, 4))"
            ]
          },
          "metadata": {},
          "execution_count": 21
        }
      ]
    },
    {
      "cell_type": "code",
      "source": [
        "train_usrs = train_dataframe.user_id.unique()\n",
        "vald_usrs = valid_df.user_id.unique()\n",
        "len(train_usrs),len(vald_usrs)\n",
        "train_itms = train_dataframe.item_id.unique()\n",
        "vald_itms = valid_df.item_id.unique()\n",
        "len(train_itms),len(vald_itms)"
      ],
      "metadata": {
        "colab": {
          "base_uri": "https://localhost:8080/"
        },
        "id": "ZP063qaod9nD",
        "outputId": "358befbf-c25c-47ac-96f7-4f431b1d3f46"
      },
      "execution_count": 22,
      "outputs": [
        {
          "output_type": "execute_result",
          "data": {
            "text/plain": [
              "(1650, 1410)"
            ]
          },
          "metadata": {},
          "execution_count": 22
        }
      ]
    },
    {
      "cell_type": "code",
      "source": [
        "class CollabDataset(Dataset):\n",
        "    def __init__(self, df, user_col=0, item_col=1, rating_col=2):\n",
        "        self.df = df\n",
        "        self.user_tensor = torch.tensor(self.df.iloc[:,user_col], dtype=torch.long, device = device)\n",
        "        self.item_tensor = torch.tensor(self.df.iloc[:,item_col], dtype=torch.long, device = device)\n",
        "        self.target_tensor = torch.tensor(self.df.iloc[:,rating_col], dtype=torch.float32, device = device)\n",
        "\n",
        "    def __getitem__(self, index):\n",
        "        return(self.user_tensor[index], self.item_tensor[index], self.target_tensor[index])\n",
        "\n",
        "    def __len__(self):\n",
        "        return(self.user_tensor.shape[0])\n",
        "batch_size = 2000\n",
        "train_dataset = CollabDataset(train_dataframe)\n",
        "train_dataloader = DataLoader(train_dataset, batch_size=batch_size, shuffle=True, num_workers=4)\n",
        "valid_dataset = CollabDataset(valid_df)\n",
        "valid_dataloader = DataLoader(valid_dataset, batch_size=batch_size, shuffle=True, num_workers=4)"
      ],
      "metadata": {
        "colab": {
          "base_uri": "https://localhost:8080/"
        },
        "id": "d5YbaCn1d9pY",
        "outputId": "01413d1a-ae6a-4eb7-f0d4-24f06341c334"
      },
      "execution_count": 23,
      "outputs": [
        {
          "output_type": "stream",
          "name": "stderr",
          "text": [
            "/usr/local/lib/python3.11/dist-packages/torch/utils/data/dataloader.py:624: UserWarning: This DataLoader will create 4 worker processes in total. Our suggested max number of worker in current system is 2, which is smaller than what this DataLoader is going to create. Please be aware that excessive worker creation might get DataLoader running slow or even freeze, lower the worker number to avoid potential slowness/freeze if necessary.\n",
            "  warnings.warn(\n"
          ]
        }
      ]
    },
    {
      "cell_type": "code",
      "source": [
        "class ConcatNet(nn.Module):\n",
        "    def __init__(self, config):\n",
        "        super(ConcatNet, self).__init__()\n",
        "        #hyperparameters\n",
        "        self.config = config\n",
        "        self.num_users = config['num_users']\n",
        "        self.num_items = config['num_items']\n",
        "        self.emb_size = config['emb_size']\n",
        "        self.emb_droupout = config['emb_droupout']\n",
        "        self.fc_layer_sizes = config['fc_layer_sizes']\n",
        "        self.dropout = config['dropout']\n",
        "        self.out_range = config['out_range']\n",
        "\n",
        "        #embeddings\n",
        "        self.emb_user = nn.Sequential(\n",
        "            nn.Embedding(num_embeddings=self.num_users, embedding_dim=self.emb_size),\n",
        "            nn.Dropout(p=self.emb_droupout))\n",
        "        self.emb_item = nn.Sequential(\n",
        "            nn.Embedding(num_embeddings=self.num_items, embedding_dim=self.emb_size),\n",
        "            nn.Dropout(p=self.emb_droupout))\n",
        "\n",
        "        #fully-connected layers\n",
        "        fc_layers_list = []\n",
        "        for ni,nf,p in zip(self.fc_layer_sizes[:-1], self.fc_layer_sizes[1:], self.dropout):\n",
        "            fc_layers_list.append(nn.Linear(ni, nf))\n",
        "            fc_layers_list.append(nn.ReLU(inplace=True))\n",
        "            fc_layers_list.append(nn.BatchNorm1d(nf))\n",
        "            fc_layers_list.append(nn.Dropout(p=p))\n",
        "        self.fc_layers = nn.Sequential(*fc_layers_list)\n",
        "\n",
        "        #output head\n",
        "        self.head = torch.nn.Linear(in_features=self.fc_layer_sizes[-1], out_features=1)\n",
        "\n",
        "    def forward(self, user_idx, item_idx):\n",
        "        user_emb = self.emb_user(user_idx)\n",
        "        item_emb = self.emb_item(item_idx)\n",
        "        x = torch.cat([user_emb, item_emb], dim=1)\n",
        "        x = self.fc_layers(x)\n",
        "        x = torch.sigmoid(self.head(x))\n",
        "        x = x * (self.out_range[1] - self.out_range[0]) + self.out_range[0]\n",
        "        return(x)\n",
        "\n",
        "\n",
        "config = {\n",
        "    'num_users':943,\n",
        "    'num_items':1682,\n",
        "    'emb_size':50,\n",
        "    'emb_droupout': 0.05,\n",
        "    'fc_layer_sizes': [100, 512, 256],\n",
        "    'dropout': [0.7,0.35],\n",
        "    'out_range': [0.8,5.2]}\n",
        "model = ConcatNet(config)\n",
        "model"
      ],
      "metadata": {
        "colab": {
          "base_uri": "https://localhost:8080/"
        },
        "id": "YLxJOYmMd9rl",
        "outputId": "2817bacf-f206-4837-a8c6-1968a62413d1"
      },
      "execution_count": 24,
      "outputs": [
        {
          "output_type": "execute_result",
          "data": {
            "text/plain": [
              "ConcatNet(\n",
              "  (emb_user): Sequential(\n",
              "    (0): Embedding(943, 50)\n",
              "    (1): Dropout(p=0.05, inplace=False)\n",
              "  )\n",
              "  (emb_item): Sequential(\n",
              "    (0): Embedding(1682, 50)\n",
              "    (1): Dropout(p=0.05, inplace=False)\n",
              "  )\n",
              "  (fc_layers): Sequential(\n",
              "    (0): Linear(in_features=100, out_features=512, bias=True)\n",
              "    (1): ReLU(inplace=True)\n",
              "    (2): BatchNorm1d(512, eps=1e-05, momentum=0.1, affine=True, track_running_stats=True)\n",
              "    (3): Dropout(p=0.7, inplace=False)\n",
              "    (4): Linear(in_features=512, out_features=256, bias=True)\n",
              "    (5): ReLU(inplace=True)\n",
              "    (6): BatchNorm1d(256, eps=1e-05, momentum=0.1, affine=True, track_running_stats=True)\n",
              "    (7): Dropout(p=0.35, inplace=False)\n",
              "  )\n",
              "  (head): Linear(in_features=256, out_features=1, bias=True)\n",
              ")"
            ]
          },
          "metadata": {},
          "execution_count": 24
        }
      ]
    },
    {
      "cell_type": "code",
      "source": [
        "batch_size = 2000\n",
        "learning_rate = 1e-2\n",
        "weight_decay = 5e-1\n",
        "num_epoch = 100\n",
        "reduce_learning_rate = 1\n",
        "early_stoping = 5\n",
        "\n",
        "\n",
        "learning_rates = []\n",
        "train_losses=[]\n",
        "valid_losses = []\n",
        "best_loss = np.inf\n",
        "best_weights = None\n",
        "\n",
        "train_dataset = CollabDataset(train_dataframe)\n",
        "train_dataloader = DataLoader(train_dataset, batch_size=batch_size, shuffle=True, num_workers=4)\n",
        "valid_dataset = CollabDataset(valid_df)\n",
        "valid_dataloader = DataLoader(valid_dataset, batch_size=batch_size, shuffle=True, num_workers=4)\n",
        "\n",
        "\n",
        "model = ConcatNet(config)\n",
        "criterion = nn.MSELoss(reduction='sum')\n",
        "optim = torch.optim.Adam(model.parameters(), lr=learning_rate, betas=(0.9, 0.999), weight_decay=weight_decay)\n",
        "\n",
        "scheduler = torch.optim.lr_scheduler.ReduceLROnPlateau(\n",
        "    optim, mode='min', factor=0.5, threshold=1e-3,\n",
        "    patience=reduce_learning_rate, min_lr=learning_rate / 10\n",
        ")\n"
      ],
      "metadata": {
        "id": "ka_j9u_Od9vD"
      },
      "execution_count": 26,
      "outputs": []
    },
    {
      "cell_type": "code",
      "source": [
        "from tqdm.notebook import tqdm  # at the top\n",
        "\n",
        "for e in tqdm(range(num_epoch)):\n",
        "    model.train()\n",
        "    train_loss = 0\n",
        "    for u, i, r in train_dataloader:\n",
        "        r_pred = model(u, i)\n",
        "        r = r[:, None]\n",
        "\n",
        "        loss = criterion(r_pred, r)\n",
        "\n",
        "        optim.zero_grad()\n",
        "        loss.backward()\n",
        "        optim.step()\n",
        "        train_loss += loss.detach().item()\n",
        "\n",
        "    current_learning_rate = scheduler.optimizer.param_groups[0]['lr']\n",
        "    learning_rates.append(current_learning_rate)\n",
        "    train_loss /= len(train_dataset)\n",
        "    train_losses.append(train_loss)\n",
        "\n",
        "    model.eval()\n",
        "    valid_loss = 0\n",
        "    for u, i, r in valid_dataloader:\n",
        "        r_pred = model(u, i)\n",
        "        r = r[:, None]\n",
        "        loss = criterion(r_pred, r)\n",
        "        valid_loss += loss.detach().item()\n",
        "    valid_loss /= len(valid_dataset)\n",
        "    valid_losses.append(valid_loss)\n",
        "\n",
        "    print(f'Epoch {e} Train loss: {train_loss:.4f}; Valid loss: {valid_loss:.4f}; Learning rate: {current_learning_rate:.5f}')\n",
        "\n",
        "    if valid_loss < best_loss:\n",
        "        best_loss = valid_loss\n",
        "        best_weights = deepcopy(model.state_dict())\n",
        "        no_improvements = 0\n",
        "    else:\n",
        "        no_improvements += 1\n",
        "\n",
        "    if no_improvements >= early_stoping:\n",
        "        print(f'Early stopping after epoch {e}')\n",
        "        break\n",
        "\n",
        "    scheduler.step(valid_loss)\n"
      ],
      "metadata": {
        "colab": {
          "base_uri": "https://localhost:8080/",
          "height": 413,
          "referenced_widgets": [
            "265cdc787d0d458bbb133fe750d170a9",
            "e77b7006304647dd98dd5f88a6bec14f",
            "7c424c2de9984bc4a904d2391517400b",
            "e93378e842174c4a88466a7962d49b6b",
            "d5622978ab3b4b3fad772c290757081b",
            "43e47ce1a58741dd8c8cc264862bf222",
            "e29101c752ca4e3092382bb46f1fb0cb",
            "5cb45d581b184c6b902376ac37824005",
            "de5829af3dd14b58a29a01d17328d965",
            "ece4d780540f4dd0b18dc94afc5117f6",
            "6efc3fb18e6045659b68dcc9e47b241c"
          ]
        },
        "id": "ArqJhRvog7mN",
        "outputId": "c394d804-8400-4a19-c908-be1da9636427"
      },
      "execution_count": 29,
      "outputs": [
        {
          "output_type": "display_data",
          "data": {
            "text/plain": [
              "  0%|          | 0/100 [00:00<?, ?it/s]"
            ],
            "application/vnd.jupyter.widget-view+json": {
              "version_major": 2,
              "version_minor": 0,
              "model_id": "265cdc787d0d458bbb133fe750d170a9"
            }
          },
          "metadata": {}
        },
        {
          "output_type": "stream",
          "name": "stdout",
          "text": [
            "Epoch 0 Train loss: 1.0865; Valid loss: 1.0528; Learning rate: 0.01000\n",
            "Epoch 1 Train loss: 0.9788; Valid loss: 0.9599; Learning rate: 0.01000\n",
            "Epoch 2 Train loss: 0.9212; Valid loss: 0.9523; Learning rate: 0.01000\n",
            "Epoch 3 Train loss: 0.8969; Valid loss: 0.9259; Learning rate: 0.01000\n",
            "Epoch 4 Train loss: 0.8806; Valid loss: 0.9218; Learning rate: 0.01000\n",
            "Epoch 5 Train loss: 0.8701; Valid loss: 0.9097; Learning rate: 0.01000\n",
            "Epoch 6 Train loss: 0.8644; Valid loss: 0.9012; Learning rate: 0.01000\n",
            "Epoch 7 Train loss: 0.8598; Valid loss: 0.9054; Learning rate: 0.01000\n",
            "Epoch 8 Train loss: 0.8504; Valid loss: 0.9017; Learning rate: 0.01000\n",
            "Epoch 9 Train loss: 0.8139; Valid loss: 0.8760; Learning rate: 0.00500\n",
            "Epoch 10 Train loss: 0.7958; Valid loss: 0.8748; Learning rate: 0.00500\n",
            "Epoch 11 Train loss: 0.7855; Valid loss: 0.8658; Learning rate: 0.00500\n",
            "Epoch 12 Train loss: 0.7794; Valid loss: 0.8687; Learning rate: 0.00500\n",
            "Epoch 13 Train loss: 0.7712; Valid loss: 0.8661; Learning rate: 0.00500\n",
            "Epoch 14 Train loss: 0.7360; Valid loss: 0.8612; Learning rate: 0.00250\n",
            "Epoch 15 Train loss: 0.7148; Valid loss: 0.8616; Learning rate: 0.00250\n",
            "Epoch 16 Train loss: 0.7034; Valid loss: 0.8664; Learning rate: 0.00250\n",
            "Epoch 17 Train loss: 0.6726; Valid loss: 0.8803; Learning rate: 0.00125\n",
            "Epoch 18 Train loss: 0.6594; Valid loss: 0.8787; Learning rate: 0.00125\n",
            "Epoch 19 Train loss: 0.6455; Valid loss: 0.8838; Learning rate: 0.00100\n",
            "Early stopping after epoch 19\n"
          ]
        }
      ]
    },
    {
      "cell_type": "code",
      "source": [
        "plt.plot(train_losses)\n",
        "plt.plot(valid_losses)"
      ],
      "metadata": {
        "colab": {
          "base_uri": "https://localhost:8080/",
          "height": 447
        },
        "id": "6x38t8RmielF",
        "outputId": "038a73df-95e2-45a9-e3af-6972895b80f7"
      },
      "execution_count": 30,
      "outputs": [
        {
          "output_type": "execute_result",
          "data": {
            "text/plain": [
              "[<matplotlib.lines.Line2D at 0x7b1c75165490>]"
            ]
          },
          "metadata": {},
          "execution_count": 30
        },
        {
          "output_type": "display_data",
          "data": {
            "text/plain": [
              "<Figure size 640x480 with 1 Axes>"
            ],
            "image/png": "[encoded data removed]"
          },
          "metadata": {}
        }
      ]
    },
    {
      "cell_type": "code",
      "source": [],
      "metadata": {
        "id": "NPd-w_mwhXxm"
      },
      "execution_count": null,
      "outputs": []
    }
  ]
}